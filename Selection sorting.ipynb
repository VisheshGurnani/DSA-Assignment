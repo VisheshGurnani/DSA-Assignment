{
 "cells": [
  {
   "cell_type": "code",
   "execution_count": 1,
   "id": "54bf86c9-34d7-4751-876b-84014130084e",
   "metadata": {},
   "outputs": [],
   "source": [
    "# Selection Sorting Algorithm - Sorts an array by repeatedly finding the minimum element from unsorted part and putting it at the beginning"
   ]
  },
  {
   "cell_type": "code",
   "execution_count": 7,
   "id": "4841f495-2a7e-4063-9031-50ac1a962d0d",
   "metadata": {},
   "outputs": [
    {
     "name": "stdin",
     "output_type": "stream",
     "text": [
      "Enter the number of elements :  5\n",
      "Enter the elements :  14\n",
      "Enter the elements :  85\n",
      "Enter the elements :  10\n",
      "Enter the elements :  59\n",
      "Enter the elements :  546\n"
     ]
    },
    {
     "name": "stdout",
     "output_type": "stream",
     "text": [
      "14 85 10 59 546 "
     ]
    }
   ],
   "source": [
    "def selection_sort(list):\n",
    "    size = len(list)\n",
    "    for i in range(size-1):\n",
    "        min = list[i]\n",
    "        position = i\n",
    "        for j in range(i+1, size):\n",
    "            min = list[j]\n",
    "            position = j\n",
    "        if j != position:\n",
    "            temp = list[i]\n",
    "            list[i] = list[position]\n",
    "            list[position] = temp\n",
    "n = int(input(\"Enter the number of elements : \"))\n",
    "list01 = []\n",
    "for i in range(n):\n",
    "    num = int(input(\"Enter the elements : \"))\n",
    "    list01.append(num)\n",
    "\n",
    "selection_sort(list01)\n",
    "for i in range(n):\n",
    "    print(list01[i], end = \" \")"
   ]
  },
  {
   "cell_type": "code",
   "execution_count": null,
   "id": "8fae0d35-3a5e-4b18-a5f5-10f71c50e935",
   "metadata": {},
   "outputs": [],
   "source": []
  }
 ],
 "metadata": {
  "kernelspec": {
   "display_name": "Python 3 (ipykernel)",
   "language": "python",
   "name": "python3"
  },
  "language_info": {
   "codemirror_mode": {
    "name": "ipython",
    "version": 3
   },
   "file_extension": ".py",
   "mimetype": "text/x-python",
   "name": "python",
   "nbconvert_exporter": "python",
   "pygments_lexer": "ipython3",
   "version": "3.12.4"
  }
 },
 "nbformat": 4,
 "nbformat_minor": 5
}
