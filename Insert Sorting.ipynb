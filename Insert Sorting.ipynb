{
 "cells": [
  {
   "cell_type": "code",
   "execution_count": 1,
   "id": "287d282e-29c4-498e-ac9b-38efc4a810dc",
   "metadata": {},
   "outputs": [
    {
     "name": "stdin",
     "output_type": "stream",
     "text": [
      "Enter number of elements: 5\n",
      "Enter elements: 12\n",
      "Enter elements: 85\n",
      "Enter elements: 45\n",
      "Enter elements: 74\n",
      "Enter elements: 36\n"
     ]
    },
    {
     "name": "stdout",
     "output_type": "stream",
     "text": [
      "The sorted elements are:\n",
      "12 36 45 74 85 "
     ]
    }
   ],
   "source": [
    "# Insert sorting algorithm\n",
    "def insertion_sort(list):\n",
    "    size=len(list)\n",
    "    for i in range(1,size):\n",
    "        temp = list[i]\n",
    "        j = i-1\n",
    "        while temp<list[j] and j>=0:\n",
    "            list[j+1]=list[j]\n",
    "            j=j-1\n",
    "            list[j+1]=temp\n",
    "n=int(input(\"Enter number of elements:\"))\n",
    "lst=[]\n",
    "for i in range(n):\n",
    "    num=int(input(\"Enter elements:\"))\n",
    "    lst.append(num)\n",
    "    insertion_sort(lst)\n",
    "print(\"The sorted elements are:\")\n",
    "for i in range(n):\n",
    "    print(lst[i], end=\" \") "
   ]
  },
  {
   "cell_type": "code",
   "execution_count": null,
   "id": "a3ce0932-7320-4110-a220-4b5c7664d48f",
   "metadata": {},
   "outputs": [],
   "source": []
  }
 ],
 "metadata": {
  "kernelspec": {
   "display_name": "Python 3 (ipykernel)",
   "language": "python",
   "name": "python3"
  },
  "language_info": {
   "codemirror_mode": {
    "name": "ipython",
    "version": 3
   },
   "file_extension": ".py",
   "mimetype": "text/x-python",
   "name": "python",
   "nbconvert_exporter": "python",
   "pygments_lexer": "ipython3",
   "version": "3.12.4"
  }
 },
 "nbformat": 4,
 "nbformat_minor": 5
}
